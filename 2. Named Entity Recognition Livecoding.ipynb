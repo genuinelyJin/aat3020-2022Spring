{
 "cells": [
  {
   "cell_type": "markdown",
   "id": "45a2da87",
   "metadata": {},
   "source": [
    "# Named Entity Recognition\n",
    "- For a given word and its context window, estimate whether the given word is "
   ]
  },
  {
   "cell_type": "markdown",
   "id": "11619f5d",
   "metadata": {},
   "source": [
    "# 1. Download dataset\n",
    "- CoNLL2003 "
   ]
  },
  {
   "cell_type": "code",
   "execution_count": null,
   "id": "10a4faa3",
   "metadata": {},
   "outputs": [],
   "source": [
    "!wget https://data.deepai.org/conll2003.zip # Download dataset\n",
    "!unzip conll2003.zip # Unzip dataset zip"
   ]
  },
  {
   "cell_type": "markdown",
   "id": "7643dde5",
   "metadata": {},
   "source": [
    "## 2. Preprocess Dataset"
   ]
  },
  {
   "cell_type": "code",
   "execution_count": 10,
   "id": "d31874b2",
   "metadata": {},
   "outputs": [
    {
     "data": {
      "text/plain": [
       "['-DOCSTART- -X- -X- O',\n",
       " '',\n",
       " 'EU NNP B-NP B-ORG',\n",
       " 'rejects VBZ B-VP O',\n",
       " 'German JJ B-NP B-MISC',\n",
       " 'call NN I-NP O',\n",
       " 'to TO B-VP O',\n",
       " 'boycott VB I-VP O',\n",
       " 'British JJ B-NP B-MISC',\n",
       " 'lamb NN I-NP O',\n",
       " '. . O O',\n",
       " '',\n",
       " 'Peter NNP B-NP B-PER',\n",
       " 'Blackburn NNP I-NP I-PER',\n",
       " '',\n",
       " 'BRUSSELS NNP B-NP B-LOC',\n",
       " '1996-08-22 CD I-NP O',\n",
       " '',\n",
       " 'The DT B-NP O',\n",
       " 'European NNP I-NP B-ORG']"
      ]
     },
     "execution_count": 10,
     "metadata": {},
     "output_type": "execute_result"
    }
   ],
   "source": [
    "with open(\"train.txt\") as f:\n",
    "  string = ''.join(f.readlines())\n",
    "dataset = string.split('\\n')\n",
    "\n",
    "dataset[:20]"
   ]
  },
  {
   "cell_type": "code",
   "execution_count": 11,
   "id": "49e7f34b",
   "metadata": {},
   "outputs": [
    {
     "data": {
      "text/plain": [
       "[['-DOCSTART- -X- -X- O'],\n",
       " ['EU NNP B-NP B-ORG',\n",
       "  'rejects VBZ B-VP O',\n",
       "  'German JJ B-NP B-MISC',\n",
       "  'call NN I-NP O',\n",
       "  'to TO B-VP O',\n",
       "  'boycott VB I-VP O',\n",
       "  'British JJ B-NP B-MISC',\n",
       "  'lamb NN I-NP O',\n",
       "  '. . O O'],\n",
       " ['Peter NNP B-NP B-PER', 'Blackburn NNP I-NP I-PER'],\n",
       " ['BRUSSELS NNP B-NP B-LOC', '1996-08-22 CD I-NP O'],\n",
       " ['The DT B-NP O',\n",
       "  'European NNP I-NP B-ORG',\n",
       "  'Commission NNP I-NP I-ORG',\n",
       "  'said VBD B-VP O',\n",
       "  'on IN B-PP O',\n",
       "  'Thursday NNP B-NP O',\n",
       "  'it PRP B-NP O',\n",
       "  'disagreed VBD B-VP O',\n",
       "  'with IN B-PP O',\n",
       "  'German JJ B-NP B-MISC',\n",
       "  'advice NN I-NP O',\n",
       "  'to TO B-PP O',\n",
       "  'consumers NNS B-NP O',\n",
       "  'to TO B-VP O',\n",
       "  'shun VB I-VP O',\n",
       "  'British JJ B-NP B-MISC',\n",
       "  'lamb NN I-NP O',\n",
       "  'until IN B-SBAR O',\n",
       "  'scientists NNS B-NP O',\n",
       "  'determine VBP B-VP O',\n",
       "  'whether IN B-SBAR O',\n",
       "  'mad JJ B-NP O',\n",
       "  'cow NN I-NP O',\n",
       "  'disease NN I-NP O',\n",
       "  'can MD B-VP O',\n",
       "  'be VB I-VP O',\n",
       "  'transmitted VBN I-VP O',\n",
       "  'to TO B-PP O',\n",
       "  'sheep NN B-NP O',\n",
       "  '. . O O']]"
      ]
     },
     "execution_count": 11,
     "metadata": {},
     "output_type": "execute_result"
    }
   ],
   "source": [
    "from itertools import groupby\n",
    "\n",
    "dataset_in_sentence = [list(group) for k, group in groupby(dataset, lambda x: x == \"\") if not k]\n",
    "dataset_in_sentence[:5]"
   ]
  },
  {
   "cell_type": "markdown",
   "id": "d3f8b574",
   "metadata": {},
   "source": [
    "## 3. Make a Neural Network Model"
   ]
  },
  {
   "cell_type": "code",
   "execution_count": null,
   "id": "8baa6a67",
   "metadata": {},
   "outputs": [],
   "source": []
  },
  {
   "cell_type": "markdown",
   "id": "c85a3ba8",
   "metadata": {},
   "source": [
    "## 4. Implement a train loop"
   ]
  },
  {
   "cell_type": "code",
   "execution_count": null,
   "id": "74b595af",
   "metadata": {},
   "outputs": [],
   "source": []
  },
  {
   "cell_type": "code",
   "execution_count": null,
   "id": "6dd30951",
   "metadata": {},
   "outputs": [],
   "source": []
  },
  {
   "cell_type": "markdown",
   "id": "6dce0efd",
   "metadata": {},
   "source": [
    "## 5. Make Inference"
   ]
  },
  {
   "cell_type": "code",
   "execution_count": null,
   "id": "3fcf2a6c",
   "metadata": {},
   "outputs": [],
   "source": []
  }
 ],
 "metadata": {
  "kernelspec": {
   "display_name": "Python 3 (ipykernel)",
   "language": "python",
   "name": "python3"
  },
  "language_info": {
   "codemirror_mode": {
    "name": "ipython",
    "version": 3
   },
   "file_extension": ".py",
   "mimetype": "text/x-python",
   "name": "python",
   "nbconvert_exporter": "python",
   "pygments_lexer": "ipython3",
   "version": "3.8.10"
  }
 },
 "nbformat": 4,
 "nbformat_minor": 5
}
